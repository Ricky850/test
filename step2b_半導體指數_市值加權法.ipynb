{
 "cells": [
  {
   "cell_type": "code",
   "execution_count": 5,
   "metadata": {},
   "outputs": [],
   "source": [
    "import calendar\n",
    "from datetime import datetime, timedelta\n",
    "import time  \n",
    "import pandas as pd\n",
    "import QuantLib as ql\n",
    "import os\n",
    "import matplotlib.pyplot as plt"
   ]
  },
  {
   "cell_type": "markdown",
   "metadata": {},
   "source": [
    "# *skip 確認資料缺值*"
   ]
  },
  {
   "cell_type": "code",
   "execution_count": null,
   "metadata": {},
   "outputs": [],
   "source": [
    "a = pd.read_csv('D:\\\\碩論資料\\\\price_outshare\\\\together_2.csv')  # together_2 d0y2afhj5mndpzxq"
   ]
  },
  {
   "cell_type": "code",
   "execution_count": null,
   "metadata": {},
   "outputs": [],
   "source": [
    "cusip_a = a['CUSIP'].unique()\n",
    "'''\n",
    "try:\n",
    "    cusip_a = [int(i) for i in cusip_a]\n",
    "except ValueError:\n",
    "    pass\n",
    "'''\n",
    "cusip_a = [str(i) for i in cusip_a]\n",
    "\n",
    "semi_final = pd.read_excel('C:\\\\Users\\\\User\\\\Desktop\\\\資料整理\\\\semi_55_final.xlsx')\n",
    "cusip_semi = semi_final['cusip'].unique()\n",
    "cusip_semi = [str(i) for i in cusip_semi]\n",
    "\n",
    "loss = [i for i in cusip_semi if (i not in cusip_a)]\n",
    "loss\n"
   ]
  },
  {
   "cell_type": "code",
   "execution_count": null,
   "metadata": {},
   "outputs": [],
   "source": [
    "semi_final[semi_final['cusip'] == '12571T10']"
   ]
  },
  {
   "cell_type": "code",
   "execution_count": null,
   "metadata": {},
   "outputs": [],
   "source": [
    "firm_a = a[['date','COMNAM','CUSIP']].drop_duplicates(['COMNAM','CUSIP'])"
   ]
  },
  {
   "cell_type": "code",
   "execution_count": null,
   "metadata": {},
   "outputs": [],
   "source": [
    "multi = []\n",
    "for c in firm_a['CUSIP'].unique():\n",
    "    if len(firm_a[firm_a['CUSIP'] == c]) != 1:\n",
    "        multi.append(c)\n",
    "multi"
   ]
  },
  {
   "cell_type": "code",
   "execution_count": null,
   "metadata": {},
   "outputs": [],
   "source": [
    "firm_a[firm_a['CUSIP'] == '74736K10']"
   ]
  },
  {
   "cell_type": "code",
   "execution_count": null,
   "metadata": {},
   "outputs": [],
   "source": [
    "a[a['CUSIP'] == '74736K10']"
   ]
  },
  {
   "cell_type": "code",
   "execution_count": null,
   "metadata": {},
   "outputs": [],
   "source": [
    "a[a['COMNAM'] == 'FREESCALE SEMICOND HLDGS I LTD']"
   ]
  },
  {
   "cell_type": "code",
   "execution_count": null,
   "metadata": {},
   "outputs": [],
   "source": [
    "a[a['COMNAM'] == 'BROOKS AUTOMATION INC']  # 11434010, drop 'BROOKS P R I AUTOMATION INC'"
   ]
  },
  {
   "cell_type": "markdown",
   "metadata": {},
   "source": [
    "# 編制指數"
   ]
  },
  {
   "cell_type": "code",
   "execution_count": 2,
   "metadata": {},
   "outputs": [
    {
     "data": {
      "text/html": [
       "<div>\n",
       "<style scoped>\n",
       "    .dataframe tbody tr th:only-of-type {\n",
       "        vertical-align: middle;\n",
       "    }\n",
       "\n",
       "    .dataframe tbody tr th {\n",
       "        vertical-align: top;\n",
       "    }\n",
       "\n",
       "    .dataframe thead th {\n",
       "        text-align: right;\n",
       "    }\n",
       "</style>\n",
       "<table border=\"1\" class=\"dataframe\">\n",
       "  <thead>\n",
       "    <tr style=\"text-align: right;\">\n",
       "      <th></th>\n",
       "      <th>PERMNO</th>\n",
       "      <th>date</th>\n",
       "      <th>COMNAM</th>\n",
       "      <th>CUSIP</th>\n",
       "      <th>PRC</th>\n",
       "      <th>SHROUT</th>\n",
       "      <th>market cap</th>\n",
       "    </tr>\n",
       "  </thead>\n",
       "  <tbody>\n",
       "    <tr>\n",
       "      <th>0</th>\n",
       "      <td>10299</td>\n",
       "      <td>19960102</td>\n",
       "      <td>LINEAR TECHNOLOGY CORP</td>\n",
       "      <td>53567810</td>\n",
       "      <td>39.250</td>\n",
       "      <td>74071</td>\n",
       "      <td>2907286.75</td>\n",
       "    </tr>\n",
       "    <tr>\n",
       "      <th>1</th>\n",
       "      <td>10302</td>\n",
       "      <td>19960102</td>\n",
       "      <td>CYPRESS SEMICONDUCTOR CORP</td>\n",
       "      <td>23280610</td>\n",
       "      <td>12.625</td>\n",
       "      <td>83828</td>\n",
       "      <td>1058328.50</td>\n",
       "    </tr>\n",
       "    <tr>\n",
       "      <th>2</th>\n",
       "      <td>11896</td>\n",
       "      <td>19960102</td>\n",
       "      <td>MAXIM INTEGRATED PRODUCTS INC</td>\n",
       "      <td>57772K10</td>\n",
       "      <td>39.000</td>\n",
       "      <td>60335</td>\n",
       "      <td>2353065.00</td>\n",
       "    </tr>\n",
       "    <tr>\n",
       "      <th>3</th>\n",
       "      <td>12067</td>\n",
       "      <td>19960102</td>\n",
       "      <td>NOVELLUS SYSTEMS INC</td>\n",
       "      <td>67000810</td>\n",
       "      <td>52.125</td>\n",
       "      <td>15942</td>\n",
       "      <td>830976.75</td>\n",
       "    </tr>\n",
       "    <tr>\n",
       "      <th>4</th>\n",
       "      <td>14702</td>\n",
       "      <td>19960102</td>\n",
       "      <td>APPLIED MATERIALS INC</td>\n",
       "      <td>3822210</td>\n",
       "      <td>41.375</td>\n",
       "      <td>179278</td>\n",
       "      <td>7417627.25</td>\n",
       "    </tr>\n",
       "  </tbody>\n",
       "</table>\n",
       "</div>"
      ],
      "text/plain": [
       "   PERMNO      date                         COMNAM     CUSIP     PRC  SHROUT  \\\n",
       "0   10299  19960102         LINEAR TECHNOLOGY CORP  53567810  39.250   74071   \n",
       "1   10302  19960102     CYPRESS SEMICONDUCTOR CORP  23280610  12.625   83828   \n",
       "2   11896  19960102  MAXIM INTEGRATED PRODUCTS INC  57772K10  39.000   60335   \n",
       "3   12067  19960102           NOVELLUS SYSTEMS INC  67000810  52.125   15942   \n",
       "4   14702  19960102          APPLIED MATERIALS INC   3822210  41.375  179278   \n",
       "\n",
       "   market cap  \n",
       "0  2907286.75  \n",
       "1  1058328.50  \n",
       "2  2353065.00  \n",
       "3   830976.75  \n",
       "4  7417627.25  "
      ]
     },
     "execution_count": 2,
     "metadata": {},
     "output_type": "execute_result"
    }
   ],
   "source": [
    "df_date = pd.read_csv('D:\\\\碩論資料\\\\price_outshare\\\\together_date.csv')\n",
    "#df_date['date'] = pd.to_datetime([str(date)[:4]+'-'+str(date)[4:6]+'-'+str(date)[6:] for date in df_date['date']])\n",
    "df_date.head()"
   ]
  },
  {
   "cell_type": "code",
   "execution_count": 3,
   "metadata": {},
   "outputs": [
    {
     "name": "stdout",
     "output_type": "stream",
     "text": [
      "<class 'pandas.core.frame.DataFrame'>\n",
      "RangeIndex: 247595 entries, 0 to 247594\n",
      "Data columns (total 7 columns):\n",
      " #   Column      Non-Null Count   Dtype  \n",
      "---  ------      --------------   -----  \n",
      " 0   PERMNO      247595 non-null  int64  \n",
      " 1   date        247595 non-null  int64  \n",
      " 2   COMNAM      247595 non-null  object \n",
      " 3   CUSIP       247595 non-null  object \n",
      " 4   PRC         247595 non-null  float64\n",
      " 5   SHROUT      247595 non-null  int64  \n",
      " 6   market cap  247595 non-null  float64\n",
      "dtypes: float64(2), int64(3), object(2)\n",
      "memory usage: 13.2+ MB\n"
     ]
    }
   ],
   "source": [
    "df_date.info()"
   ]
  },
  {
   "cell_type": "code",
   "execution_count": 7,
   "metadata": {},
   "outputs": [],
   "source": [
    "D = df_date['date'].unique()\n",
    "mar_cap = []\n",
    "basis_cap = sum(df_date[df_date['date'] == D[0]]['market cap'])\n",
    "\n",
    "for d in D:\n",
    "    mar_cap.append([d, sum(df_date[df_date['date'] == d]['market cap'])/basis_cap])\n"
   ]
  },
  {
   "cell_type": "code",
   "execution_count": 8,
   "metadata": {},
   "outputs": [],
   "source": [
    "mar_cap = pd.DataFrame(mar_cap)\n",
    "mar_cap.columns = ['date', 'semi index']\n",
    "mar_cap['date'] = pd.to_datetime([str(date)[:4]+'-'+str(date)[4:6]+'-'+str(date)[6:] for date in mar_cap['date']])\n",
    "#mar_cap.to_csv('C:\\\\Users\\\\User\\\\Desktop\\\\資料整理\\\\input\\\\' + 'semi_index.csv', index=False)"
   ]
  },
  {
   "cell_type": "markdown",
   "metadata": {},
   "source": [
    "# 指數走勢、公司數量"
   ]
  },
  {
   "cell_type": "code",
   "execution_count": 9,
   "metadata": {},
   "outputs": [
    {
     "data": {
      "image/png": "[encoded data removed]",
      "text/plain": [
       "<Figure size 1440x288 with 1 Axes>"
      ]
     },
     "metadata": {
      "needs_background": "light"
     },
     "output_type": "display_data"
    }
   ],
   "source": [
    "#mar_cap = pd.read_csv('C:\\\\Users\\\\User\\\\Desktop\\\\資料整理\\\\input_seperate\\\\semi_index.csv')\n",
    "plt.figure(figsize=(20,4))\n",
    "plt.plot(mar_cap['date'], mar_cap['semi index'])\n",
    "plt.show()"
   ]
  },
  {
   "cell_type": "code",
   "execution_count": 10,
   "metadata": {},
   "outputs": [
    {
     "data": {
      "text/html": [
       "<div>\n",
       "<style scoped>\n",
       "    .dataframe tbody tr th:only-of-type {\n",
       "        vertical-align: middle;\n",
       "    }\n",
       "\n",
       "    .dataframe tbody tr th {\n",
       "        vertical-align: top;\n",
       "    }\n",
       "\n",
       "    .dataframe thead th {\n",
       "        text-align: right;\n",
       "    }\n",
       "</style>\n",
       "<table border=\"1\" class=\"dataframe\">\n",
       "  <thead>\n",
       "    <tr style=\"text-align: right;\">\n",
       "      <th></th>\n",
       "      <th>date</th>\n",
       "      <th>semi index</th>\n",
       "    </tr>\n",
       "  </thead>\n",
       "  <tbody>\n",
       "    <tr>\n",
       "      <th>0</th>\n",
       "      <td>1996-01-02</td>\n",
       "      <td>1.000000</td>\n",
       "    </tr>\n",
       "    <tr>\n",
       "      <th>1</th>\n",
       "      <td>1996-01-03</td>\n",
       "      <td>0.968067</td>\n",
       "    </tr>\n",
       "    <tr>\n",
       "      <th>2</th>\n",
       "      <td>1996-01-04</td>\n",
       "      <td>0.967984</td>\n",
       "    </tr>\n",
       "    <tr>\n",
       "      <th>3</th>\n",
       "      <td>1996-01-05</td>\n",
       "      <td>0.964280</td>\n",
       "    </tr>\n",
       "    <tr>\n",
       "      <th>4</th>\n",
       "      <td>1996-01-08</td>\n",
       "      <td>0.958427</td>\n",
       "    </tr>\n",
       "    <tr>\n",
       "      <th>...</th>\n",
       "      <td>...</td>\n",
       "      <td>...</td>\n",
       "    </tr>\n",
       "    <tr>\n",
       "      <th>5595</th>\n",
       "      <td>2018-03-23</td>\n",
       "      <td>7.521252</td>\n",
       "    </tr>\n",
       "    <tr>\n",
       "      <th>5596</th>\n",
       "      <td>2018-03-26</td>\n",
       "      <td>7.856576</td>\n",
       "    </tr>\n",
       "    <tr>\n",
       "      <th>5597</th>\n",
       "      <td>2018-03-27</td>\n",
       "      <td>7.568355</td>\n",
       "    </tr>\n",
       "    <tr>\n",
       "      <th>5598</th>\n",
       "      <td>2018-03-28</td>\n",
       "      <td>7.398559</td>\n",
       "    </tr>\n",
       "    <tr>\n",
       "      <th>5599</th>\n",
       "      <td>2018-03-29</td>\n",
       "      <td>7.584117</td>\n",
       "    </tr>\n",
       "  </tbody>\n",
       "</table>\n",
       "<p>5600 rows × 2 columns</p>\n",
       "</div>"
      ],
      "text/plain": [
       "           date  semi index\n",
       "0    1996-01-02    1.000000\n",
       "1    1996-01-03    0.968067\n",
       "2    1996-01-04    0.967984\n",
       "3    1996-01-05    0.964280\n",
       "4    1996-01-08    0.958427\n",
       "...         ...         ...\n",
       "5595 2018-03-23    7.521252\n",
       "5596 2018-03-26    7.856576\n",
       "5597 2018-03-27    7.568355\n",
       "5598 2018-03-28    7.398559\n",
       "5599 2018-03-29    7.584117\n",
       "\n",
       "[5600 rows x 2 columns]"
      ]
     },
     "execution_count": 10,
     "metadata": {},
     "output_type": "execute_result"
    }
   ],
   "source": [
    "mar_cap"
   ]
  },
  {
   "cell_type": "code",
   "execution_count": 11,
   "metadata": {},
   "outputs": [
    {
     "data": {
      "image/png": "[encoded data removed]",
      "text/plain": [
       "<Figure size 1440x288 with 1 Axes>"
      ]
     },
     "metadata": {
      "needs_background": "light"
     },
     "output_type": "display_data"
    }
   ],
   "source": [
    "firm_num = []\n",
    "for d in D:\n",
    "    firm_num.append([d, len(df_date[df_date['date'] == d])])\n",
    "\n",
    "firm_num = pd.DataFrame(firm_num)\n",
    "firm_num.columns = ['date', 'firm number']\n",
    "firm_num['date'] = pd.to_datetime([str(date)[:4]+'-'+str(date)[4:6]+'-'+str(date)[6:] for date in firm_num['date']])\n",
    "\n",
    "plt.figure(figsize=(20,4))\n",
    "plt.plot(firm_num['date'], firm_num['firm number'])\n",
    "plt.show()"
   ]
  },
  {
   "cell_type": "code",
   "execution_count": null,
   "metadata": {},
   "outputs": [],
   "source": [
    "set(df_date[df_date['date'] == 20110524]['CUSIP'])-set(df_date[df_date['date'] == 20110525]['CUSIP'])  # 04743P10, Qualcomm Atheros Inc\n",
    "set(df_date[df_date['date'] == 20110526]['CUSIP'])-set(df_date[df_date['date'] == 20110525]['CUSIP'])  # G3727Q10, Freescale Semiconductor Ltd\n"
   ]
  },
  {
   "cell_type": "code",
   "execution_count": null,
   "metadata": {},
   "outputs": [],
   "source": []
  }
 ],
 "metadata": {
  "kernelspec": {
   "display_name": "Python 3",
   "language": "python",
   "name": "python3"
  },
  "language_info": {
   "codemirror_mode": {
    "name": "ipython",
    "version": 3
   },
   "file_extension": ".py",
   "mimetype": "text/x-python",
   "name": "python",
   "nbconvert_exporter": "python",
   "pygments_lexer": "ipython3",
   "version": "3.7.4"
  }
 },
 "nbformat": 4,
 "nbformat_minor": 2
}
