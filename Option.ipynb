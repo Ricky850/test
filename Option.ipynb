{
  "nbformat": 4,
  "nbformat_minor": 0,
  "metadata": {
    "colab": {
      "name": "Option.ipynb",
      "provenance": [],
      "collapsed_sections": [],
      "authorship_tag": "ABX9TyM0Mys1eklfrJWvvfsPZpq5",
      "include_colab_link": true
    },
    "kernelspec": {
      "name": "python3",
      "display_name": "Python 3"
    }
  },
  "cells": [
    {
      "cell_type": "markdown",
      "metadata": {
        "id": "view-in-github",
        "colab_type": "text"
      },
      "source": [
        "<a href=\"https://colab.research.google.com/github/ricky850/option/blob/master/Option.ipynb\" target=\"_parent\"><img src=\"https://colab.research.google.com/assets/colab-badge.svg\" alt=\"Open In Colab\"/></a>"
      ]
    },
    {
      "cell_type": "code",
      "metadata": {
        "id": "OxpsLGT14Ve3"
      },
      "source": [
        "import pandas as pd\r\n",
        "import os\r\n",
        "from pydrive.auth import GoogleAuth\r\n",
        "from pydrive.drive import GoogleDrive \r\n",
        "from google.colab import auth \r\n",
        "from oauth2client.client import GoogleCredentials\r\n",
        "\r\n",
        "auth.authenticate_user()\r\n",
        "gauth = GoogleAuth()\r\n",
        "gauth.credentials = GoogleCredentials.get_application_default()\r\n",
        "drive = GoogleDrive(gauth)\r\n",
        "files = os.listdir()\r\n",
        "if 'weeklyovsv.csv' not in files:\r\n",
        "  file_id = '1DNg3BaB2IJHkJPyYOJ2IK0nUF8U5Yzex'  #雲端硬碟檔案連結碼d/\r\n",
        "  downloaded = drive.CreateFile({'id' : file_id})\r\n",
        "  downloaded.GetContentFile('weeklyovsv.csv')\r\n",
        "\r\n",
        "if 'weeklyskew.csv' not in files:\r\n",
        "  file_id = '14_1NRu-FvYn0Yy9E_Gcbhn_TQLww0Yjq'  #雲端硬碟檔案連結碼d/\r\n",
        "  downloaded = drive.CreateFile({'id' : file_id})\r\n",
        "  downloaded.GetContentFile('weeklyskew.csv')"
      ],
      "execution_count": 1,
      "outputs": []
    },
    {
      "cell_type": "markdown",
      "metadata": {
        "id": "DWZ9BHHKYFzZ"
      },
      "source": [
        "## ovsv檔EDA"
      ]
    },
    {
      "cell_type": "code",
      "metadata": {
        "colab": {
          "base_uri": "https://localhost:8080/",
          "height": 219
        },
        "id": "5nSFMOGQPzjW",
        "outputId": "4f9ee30b-6311-4bb1-b6ad-cc957c7dade2"
      },
      "source": [
        "df_v = pd.read_csv('weeklyovsv.csv')\r\n",
        "df_v['date'] = pd.to_datetime([str(date)[:4]+'-'+str(date)[4:6]+'-'+str(date)[6:] for date in df_v['date']])\r\n",
        "print('資料數量:', len(df_v))\r\n",
        "df_v.head()"
      ],
      "execution_count": 23,
      "outputs": [
        {
          "output_type": "stream",
          "text": [
            "資料數量: 13182265\n"
          ],
          "name": "stdout"
        },
        {
          "output_type": "execute_result",
          "data": {
            "text/html": [
              "<div>\n",
              "<style scoped>\n",
              "    .dataframe tbody tr th:only-of-type {\n",
              "        vertical-align: middle;\n",
              "    }\n",
              "\n",
              "    .dataframe tbody tr th {\n",
              "        vertical-align: top;\n",
              "    }\n",
              "\n",
              "    .dataframe thead th {\n",
              "        text-align: right;\n",
              "    }\n",
              "</style>\n",
              "<table border=\"1\" class=\"dataframe\">\n",
              "  <thead>\n",
              "    <tr style=\"text-align: right;\">\n",
              "      <th></th>\n",
              "      <th>Unnamed: 0</th>\n",
              "      <th>weeklycallvol</th>\n",
              "      <th>secid</th>\n",
              "      <th>weeklyputvol</th>\n",
              "      <th>weeklycallnum</th>\n",
              "      <th>weeklyputnum</th>\n",
              "      <th>weeklystockvol</th>\n",
              "      <th>date</th>\n",
              "      <th>weeklyvol</th>\n",
              "    </tr>\n",
              "  </thead>\n",
              "  <tbody>\n",
              "    <tr>\n",
              "      <th>0</th>\n",
              "      <td>0</td>\n",
              "      <td>5000.0</td>\n",
              "      <td>5005</td>\n",
              "      <td>11000.0</td>\n",
              "      <td>39.0</td>\n",
              "      <td>52.0</td>\n",
              "      <td>9059.18</td>\n",
              "      <td>1996-01-11</td>\n",
              "      <td>0.438961</td>\n",
              "    </tr>\n",
              "    <tr>\n",
              "      <th>1</th>\n",
              "      <td>3</td>\n",
              "      <td>3000.0</td>\n",
              "      <td>5028</td>\n",
              "      <td>1000.0</td>\n",
              "      <td>31.0</td>\n",
              "      <td>36.0</td>\n",
              "      <td>7033.80</td>\n",
              "      <td>1996-01-11</td>\n",
              "      <td>0.090631</td>\n",
              "    </tr>\n",
              "    <tr>\n",
              "      <th>2</th>\n",
              "      <td>5</td>\n",
              "      <td>6100.0</td>\n",
              "      <td>5036</td>\n",
              "      <td>4500.0</td>\n",
              "      <td>32.0</td>\n",
              "      <td>28.0</td>\n",
              "      <td>35345.00</td>\n",
              "      <td>1996-01-11</td>\n",
              "      <td>0.097943</td>\n",
              "    </tr>\n",
              "    <tr>\n",
              "      <th>3</th>\n",
              "      <td>8</td>\n",
              "      <td>3100.0</td>\n",
              "      <td>5048</td>\n",
              "      <td>89300.0</td>\n",
              "      <td>28.0</td>\n",
              "      <td>29.0</td>\n",
              "      <td>31523.00</td>\n",
              "      <td>1996-01-11</td>\n",
              "      <td>0.720609</td>\n",
              "    </tr>\n",
              "    <tr>\n",
              "      <th>4</th>\n",
              "      <td>10</td>\n",
              "      <td>324400.0</td>\n",
              "      <td>5052</td>\n",
              "      <td>45400.0</td>\n",
              "      <td>54.0</td>\n",
              "      <td>56.0</td>\n",
              "      <td>11030.00</td>\n",
              "      <td>1996-01-11</td>\n",
              "      <td>0.119213</td>\n",
              "    </tr>\n",
              "  </tbody>\n",
              "</table>\n",
              "</div>"
            ],
            "text/plain": [
              "   Unnamed: 0  weeklycallvol  secid  ...  weeklystockvol       date  weeklyvol\n",
              "0           0         5000.0   5005  ...         9059.18 1996-01-11   0.438961\n",
              "1           3         3000.0   5028  ...         7033.80 1996-01-11   0.090631\n",
              "2           5         6100.0   5036  ...        35345.00 1996-01-11   0.097943\n",
              "3           8         3100.0   5048  ...        31523.00 1996-01-11   0.720609\n",
              "4          10       324400.0   5052  ...        11030.00 1996-01-11   0.119213\n",
              "\n",
              "[5 rows x 9 columns]"
            ]
          },
          "metadata": {
            "tags": []
          },
          "execution_count": 23
        }
      ]
    },
    {
      "cell_type": "code",
      "metadata": {
        "colab": {
          "base_uri": "https://localhost:8080/"
        },
        "id": "5KynMnDXZIMa",
        "outputId": "88d4351a-a60b-409e-fb93-d34cc11757ec"
      },
      "source": [
        "df_v.isnull().sum()"
      ],
      "execution_count": 11,
      "outputs": [
        {
          "output_type": "execute_result",
          "data": {
            "text/plain": [
              "Unnamed: 0        0\n",
              "weeklycallvol     0\n",
              "secid             0\n",
              "weeklyputvol      0\n",
              "weeklycallnum     0\n",
              "weeklyputnum      0\n",
              "weeklystockvol    0\n",
              "date              0\n",
              "weeklyvol         0\n",
              "dtype: int64"
            ]
          },
          "metadata": {
            "tags": []
          },
          "execution_count": 11
        }
      ]
    },
    {
      "cell_type": "code",
      "metadata": {
        "colab": {
          "base_uri": "https://localhost:8080/"
        },
        "id": "5ffZNlIrZ2Y5",
        "outputId": "74c4f055-e539-4a1e-ae7d-09f83a68f69e"
      },
      "source": [
        "df_v['weeklyvol'].describe()[1:]"
      ],
      "execution_count": 18,
      "outputs": [
        {
          "output_type": "execute_result",
          "data": {
            "text/plain": [
              "mean    0.236162\n",
              "std     0.189927\n",
              "min     0.000009\n",
              "25%     0.079606\n",
              "50%     0.193096\n",
              "75%     0.351574\n",
              "max     0.998670\n",
              "Name: weeklyvol, dtype: float64"
            ]
          },
          "metadata": {
            "tags": []
          },
          "execution_count": 18
        }
      ]
    },
    {
      "cell_type": "code",
      "metadata": {
        "colab": {
          "base_uri": "https://localhost:8080/"
        },
        "id": "dSEFulZW7EE2",
        "outputId": "51082367-1903-4a44-8fac-e5fb291c3ddd"
      },
      "source": [
        "df_v.groupby('secid').size().describe()"
      ],
      "execution_count": 3,
      "outputs": [
        {
          "output_type": "execute_result",
          "data": {
            "text/plain": [
              "count    7580.000000\n",
              "mean     1739.085092\n",
              "std      1969.395842\n",
              "min         1.000000\n",
              "25%       317.750000\n",
              "50%       937.000000\n",
              "75%      2503.250000\n",
              "max      8024.000000\n",
              "dtype: float64"
            ]
          },
          "metadata": {
            "tags": []
          },
          "execution_count": 3
        }
      ]
    },
    {
      "cell_type": "code",
      "metadata": {
        "colab": {
          "base_uri": "https://localhost:8080/"
        },
        "id": "-UBov6yOQ67G",
        "outputId": "543573db-4fee-4353-9317-7e54eb5365d5"
      },
      "source": [
        "df_v.groupby('date').size().describe()"
      ],
      "execution_count": 4,
      "outputs": [
        {
          "output_type": "execute_result",
          "data": {
            "text/plain": [
              "count    8024.000000\n",
              "mean     1642.854561\n",
              "std       460.068729\n",
              "min        73.000000\n",
              "25%      1373.750000\n",
              "50%      1701.000000\n",
              "75%      2015.000000\n",
              "max      2416.000000\n",
              "dtype: float64"
            ]
          },
          "metadata": {
            "tags": []
          },
          "execution_count": 4
        }
      ]
    },
    {
      "cell_type": "markdown",
      "metadata": {
        "id": "FEx0YAVzYLTR"
      },
      "source": [
        "## skew檔EDA"
      ]
    },
    {
      "cell_type": "code",
      "metadata": {
        "colab": {
          "base_uri": "https://localhost:8080/",
          "height": 219
        },
        "id": "0d-BLmQY4_Cb",
        "outputId": "2050b597-3286-445f-d047-69677235bf69"
      },
      "source": [
        "df_p = pd.read_csv('weeklyskew.csv')\r\n",
        "df_p['date'] = pd.to_datetime([str(date)[:4]+'-'+str(date)[4:6]+'-'+str(date)[6:] for date in df_p['date']])\r\n",
        "print('資料數量:', len(df_p))\r\n",
        "df_p.head()"
      ],
      "execution_count": 24,
      "outputs": [
        {
          "output_type": "stream",
          "text": [
            "資料數量: 9417754\n"
          ],
          "name": "stdout"
        },
        {
          "output_type": "execute_result",
          "data": {
            "text/html": [
              "<div>\n",
              "<style scoped>\n",
              "    .dataframe tbody tr th:only-of-type {\n",
              "        vertical-align: middle;\n",
              "    }\n",
              "\n",
              "    .dataframe tbody tr th {\n",
              "        vertical-align: top;\n",
              "    }\n",
              "\n",
              "    .dataframe thead th {\n",
              "        text-align: right;\n",
              "    }\n",
              "</style>\n",
              "<table border=\"1\" class=\"dataframe\">\n",
              "  <thead>\n",
              "    <tr style=\"text-align: right;\">\n",
              "      <th></th>\n",
              "      <th>Unnamed: 0</th>\n",
              "      <th>skewcount</th>\n",
              "      <th>secid</th>\n",
              "      <th>weeklyskew</th>\n",
              "      <th>date</th>\n",
              "    </tr>\n",
              "  </thead>\n",
              "  <tbody>\n",
              "    <tr>\n",
              "      <th>0</th>\n",
              "      <td>0</td>\n",
              "      <td>4</td>\n",
              "      <td>5036</td>\n",
              "      <td>0.015353</td>\n",
              "      <td>1996-01-11</td>\n",
              "    </tr>\n",
              "    <tr>\n",
              "      <th>1</th>\n",
              "      <td>1</td>\n",
              "      <td>2</td>\n",
              "      <td>5048</td>\n",
              "      <td>0.004091</td>\n",
              "      <td>1996-01-11</td>\n",
              "    </tr>\n",
              "    <tr>\n",
              "      <th>2</th>\n",
              "      <td>2</td>\n",
              "      <td>3</td>\n",
              "      <td>5052</td>\n",
              "      <td>0.028396</td>\n",
              "      <td>1996-01-11</td>\n",
              "    </tr>\n",
              "    <tr>\n",
              "      <th>3</th>\n",
              "      <td>3</td>\n",
              "      <td>6</td>\n",
              "      <td>5067</td>\n",
              "      <td>0.014649</td>\n",
              "      <td>1996-01-11</td>\n",
              "    </tr>\n",
              "    <tr>\n",
              "      <th>4</th>\n",
              "      <td>4</td>\n",
              "      <td>6</td>\n",
              "      <td>5068</td>\n",
              "      <td>-0.005197</td>\n",
              "      <td>1996-01-11</td>\n",
              "    </tr>\n",
              "  </tbody>\n",
              "</table>\n",
              "</div>"
            ],
            "text/plain": [
              "   Unnamed: 0  skewcount  secid  weeklyskew       date\n",
              "0           0          4   5036    0.015353 1996-01-11\n",
              "1           1          2   5048    0.004091 1996-01-11\n",
              "2           2          3   5052    0.028396 1996-01-11\n",
              "3           3          6   5067    0.014649 1996-01-11\n",
              "4           4          6   5068   -0.005197 1996-01-11"
            ]
          },
          "metadata": {
            "tags": []
          },
          "execution_count": 24
        }
      ]
    },
    {
      "cell_type": "code",
      "metadata": {
        "colab": {
          "base_uri": "https://localhost:8080/"
        },
        "id": "YsLyDawCZTin",
        "outputId": "c0486f31-1e39-4616-e06a-9a111e429874"
      },
      "source": [
        "df_p.isnull().sum()"
      ],
      "execution_count": 12,
      "outputs": [
        {
          "output_type": "execute_result",
          "data": {
            "text/plain": [
              "Unnamed: 0    0\n",
              "skewcount     0\n",
              "secid         0\n",
              "weeklyskew    0\n",
              "date          0\n",
              "dtype: int64"
            ]
          },
          "metadata": {
            "tags": []
          },
          "execution_count": 12
        }
      ]
    },
    {
      "cell_type": "code",
      "metadata": {
        "colab": {
          "base_uri": "https://localhost:8080/"
        },
        "id": "g4XNt-JTZZ3p",
        "outputId": "70c31419-78b4-425d-ff87-f0188bd485a0"
      },
      "source": [
        "df_p['weeklyskew'].describe()[1:]\r\n",
        "# 有負值"
      ],
      "execution_count": 20,
      "outputs": [
        {
          "output_type": "execute_result",
          "data": {
            "text/plain": [
              "mean    0.058308\n",
              "std     0.067418\n",
              "min    -1.379648\n",
              "25%     0.026119\n",
              "50%     0.042880\n",
              "75%     0.070158\n",
              "max     1.680941\n",
              "Name: weeklyskew, dtype: float64"
            ]
          },
          "metadata": {
            "tags": []
          },
          "execution_count": 20
        }
      ]
    },
    {
      "cell_type": "code",
      "metadata": {
        "colab": {
          "base_uri": "https://localhost:8080/"
        },
        "id": "um--IxtlXzC4",
        "outputId": "f3fb7da5-9603-44bb-c65c-15c5bbfc589b"
      },
      "source": [
        "df_p.groupby('secid').size().describe()"
      ],
      "execution_count": 6,
      "outputs": [
        {
          "output_type": "execute_result",
          "data": {
            "text/plain": [
              "count    6692.000000\n",
              "mean     1407.315302\n",
              "std      1756.434410\n",
              "min         1.000000\n",
              "25%       202.750000\n",
              "50%       660.000000\n",
              "75%      1908.750000\n",
              "max      7997.000000\n",
              "dtype: float64"
            ]
          },
          "metadata": {
            "tags": []
          },
          "execution_count": 6
        }
      ]
    },
    {
      "cell_type": "code",
      "metadata": {
        "colab": {
          "base_uri": "https://localhost:8080/"
        },
        "id": "oDGmVYZyUUBW",
        "outputId": "0cd8d99e-7973-4d5a-e6a6-e0994b617c10"
      },
      "source": [
        "df_p.groupby('date').size().describe()"
      ],
      "execution_count": 7,
      "outputs": [
        {
          "output_type": "execute_result",
          "data": {
            "text/plain": [
              "count    8022.000000\n",
              "mean     1173.990775\n",
              "std       332.846695\n",
              "min       314.000000\n",
              "25%       917.000000\n",
              "50%      1129.000000\n",
              "75%      1427.000000\n",
              "max      1954.000000\n",
              "dtype: float64"
            ]
          },
          "metadata": {
            "tags": []
          },
          "execution_count": 7
        }
      ]
    },
    {
      "cell_type": "markdown",
      "metadata": {
        "id": "mlzQuxWiX8kX"
      },
      "source": [
        "## ovsv及skew比較"
      ]
    },
    {
      "cell_type": "code",
      "metadata": {
        "colab": {
          "base_uri": "https://localhost:8080/"
        },
        "id": "qWzWHinLBSRD",
        "outputId": "e8fad150-ff21-4bdc-ca81-8cef45c204aa"
      },
      "source": [
        "v_date = df_v.groupby('date').size().index\r\n",
        "p_date = df_p.groupby('date').size().index\r\n",
        "print('僅在ovsv檔 不在skew檔中的date:',set(v_date) - set(p_date))\r\n",
        "print('僅在skew檔 不在ovsv檔中的date:',set(p_date) - set(v_date))"
      ],
      "execution_count": 8,
      "outputs": [
        {
          "output_type": "stream",
          "text": [
            "僅在ovsv檔 不在skew檔中的date: {Timestamp('2001-09-15 00:00:00'), Timestamp('2001-09-16 00:00:00')}\n",
            "僅在skew檔 不在ovsv檔中的date: set()\n"
          ],
          "name": "stdout"
        }
      ]
    },
    {
      "cell_type": "code",
      "metadata": {
        "colab": {
          "base_uri": "https://localhost:8080/"
        },
        "id": "jev2boosU_Xk",
        "outputId": "a0917adc-9e96-408c-f7ec-2c27c2ae1d65"
      },
      "source": [
        "v_sid = df_v.groupby('secid').size().index\r\n",
        "p_sid = df_p.groupby('secid').size().index\r\n",
        "print('共有 {} 個不同的secid'.format(len(set(v_sid)|set(p_sid))))\r\n",
        "print('重疊之secid有:',len(set(v_sid)&set(p_sid)))\r\n",
        "print('僅在ovsv檔 不在skew檔中的secid數量:',len(set(v_sid) - set(p_sid)))\r\n",
        "print('僅在skew檔 不在ovsv檔中的secid數量:',len(set(p_sid) - set(v_sid)))"
      ],
      "execution_count": 9,
      "outputs": [
        {
          "output_type": "stream",
          "text": [
            "共有 7591 個不同的secid\n",
            "重疊之secid有: 6681\n",
            "僅在ovsv檔 不在skew檔中的secid數量: 899\n",
            "僅在skew檔 不在ovsv檔中的secid數量: 11\n"
          ],
          "name": "stdout"
        }
      ]
    },
    {
      "cell_type": "code",
      "metadata": {
        "id": "bGRmt6IwV5mo"
      },
      "source": [
        ""
      ],
      "execution_count": 9,
      "outputs": []
    }
  ]
}